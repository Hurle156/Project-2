{
 "cells": [
  {
   "cell_type": "code",
   "execution_count": 1,
   "metadata": {},
   "outputs": [],
   "source": [
    "from bs4 import BeautifulSoup as bs\n",
    "import pandas as pd\n",
    "import requests\n",
    "from splinter import Browser"
   ]
  },
  {
   "cell_type": "code",
   "execution_count": 2,
   "metadata": {},
   "outputs": [],
   "source": [
    "executable_path = {'executable_path': '/bin/chromedriver.exe'}\n",
    "browser = Browser('chrome', **executable_path, headless = True)"
   ]
  },
  {
   "cell_type": "code",
   "execution_count": 3,
   "metadata": {},
   "outputs": [],
   "source": [
    "drafts = [2011, 2012, 2013, 2014, 2015, 2016, 2017, 2018]\n",
    "all_data =pd.DataFrame()\n",
    "for year in drafts:\n",
    "    url = f'https://www.perfectgame.org/Draft/Signings.aspx?y={year}'\n",
    "    browser.visit(url)\n",
    "    year_data = pd.DataFrame()\n",
    "    for d in range(40):\n",
    "        round_num = d+1\n",
    "        roundselector = browser.find_by_id('ContentPlaceHolder1_ddlRound').first\n",
    "        roundselector.select_by_text(f'{round_num}')\n",
    "        draft = pd.read_html(browser.html)\n",
    "        drafts = draft[4]\n",
    "        drafts['Year']= year\n",
    "        year_data = pd.concat([year_data, drafts])\n",
    "    all_data = pd.concat([all_data, year_data])"
   ]
  },
  {
   "cell_type": "code",
   "execution_count": 6,
   "metadata": {},
   "outputs": [],
   "source": [
    "all_data.to_csv(\"Dataset/draft_data.csv\")"
   ]
  },
  {
   "cell_type": "code",
   "execution_count": null,
   "metadata": {},
   "outputs": [],
   "source": []
  }
 ],
 "metadata": {
  "kernelspec": {
   "display_name": "Python 3",
   "language": "python",
   "name": "python3"
  },
  "language_info": {
   "codemirror_mode": {
    "name": "ipython",
    "version": 3
   },
   "file_extension": ".py",
   "mimetype": "text/x-python",
   "name": "python",
   "nbconvert_exporter": "python",
   "pygments_lexer": "ipython3",
   "version": "3.6.9"
  }
 },
 "nbformat": 4,
 "nbformat_minor": 2
}
