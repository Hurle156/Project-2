{
 "cells": [
  {
   "cell_type": "code",
   "execution_count": null,
   "metadata": {},
   "outputs": [],
   "source": [
    "import pandas as pd\n",
    "import requests\n",
    "from splinter import Browser"
   ]
  },
  {
   "cell_type": "code",
   "execution_count": null,
   "metadata": {},
   "outputs": [],
   "source": [
    "executable_path = {'executable_path': '/bin/chromedriver.exe'}\n",
    "browser = Browser('chrome', **executable_path, headless = True)"
   ]
  },
  {
   "cell_type": "code",
   "execution_count": null,
   "metadata": {},
   "outputs": [],
   "source": [
    "drafts = [2011, 2012, 2013, 2014, 2015, 2016, 2017, 2018]\n",
    "all_data =pd.DataFrame()\n",
    "for year in drafts:\n",
    "    url = f'https://www.perfectgame.org/Draft/Signings.aspx?y={year}'\n",
    "    browser.visit(url)\n",
    "    year_data = pd.DataFrame()\n",
    "    for d in range(40):\n",
    "        round_num = d+1\n",
    "        roundselector = browser.find_by_id('ContentPlaceHolder1_ddlRound').first\n",
    "        roundselector.select_by_text(f'{round_num}')\n",
    "        draft = pd.read_html(browser.html)\n",
    "        drafts = draft[4]\n",
    "        drafts['Year']= year\n",
    "        year_data = pd.concat([year_data, drafts])\n",
    "    all_data = pd.concat([all_data, year_data])"
   ]
  },
  {
   "cell_type": "code",
   "execution_count": null,
   "metadata": {},
   "outputs": [],
   "source": [
    "all_data.to_csv(\"Dataset/draft_data.csv\")"
   ]
  },
  {
   "cell_type": "code",
   "execution_count": null,
   "metadata": {},
   "outputs": [],
   "source": [
    "from sqlalchemy import create_engine\n",
    "from sqlalchemy.ext.declarative import declarative_base\n",
    "from sqlalchemy import Column, Integer, String, Float"
   ]
  },
  {
   "cell_type": "code",
   "execution_count": null,
   "metadata": {},
   "outputs": [],
   "source": [
    "base = declarative_base()"
   ]
  },
  {
   "cell_type": "code",
   "execution_count": null,
   "metadata": {},
   "outputs": [],
   "source": [
    "class Drafts(base):\n",
    "    __tablename__ = 'drafts'\n",
    "    Id = Column(Integer, primary_key =True)\n",
    "    Rd = Column(Integer)\n",
    "    Pick = Column(Integer)\n",
    "    Team = Column(String(3))\n",
    "    Player = Column(String(200))\n",
    "    Pos = Column(String(3))\n",
    "    HS = Column(String(200))\n",
    "    St = Column(String(2))\n",
    "    Signed = Column(String(10))\n",
    "    Bonus = Column(Integer)\n",
    "    Year =  Column(Integer)\n",
    "    "
   ]
  },
  {
   "cell_type": "code",
   "execution_count": null,
   "metadata": {},
   "outputs": [],
   "source": [
    "engine =  create_engine(\"sqlite:///Dataset/drafts.sqlite\")\n",
    "conn = engine.connect()"
   ]
  },
  {
   "cell_type": "code",
   "execution_count": null,
   "metadata": {},
   "outputs": [],
   "source": [
    "Base.metadata.drop_all(engine)\n",
    "base.metadata.create_all(engine)"
   ]
  },
  {
   "cell_type": "code",
   "execution_count": null,
   "metadata": {},
   "outputs": [],
   "source": [
    "draft_data = pd.read_csv(\"Dataset/draft_data.csv\")\n",
    "draft_data.head()"
   ]
  },
  {
   "cell_type": "code",
   "execution_count": null,
   "metadata": {},
   "outputs": [],
   "source": [
    "draft_data = draft_data.drop(columns =[\"Unnamed: 0\"])\n",
    "draft_data.head()"
   ]
  },
  {
   "cell_type": "code",
   "execution_count": null,
   "metadata": {},
   "outputs": [],
   "source": [
    "from sqlalchemy.orm import Session"
   ]
  },
  {
   "cell_type": "code",
   "execution_count": null,
   "metadata": {},
   "outputs": [],
   "source": [
    "session = Session(bind = engine)"
   ]
  },
  {
   "cell_type": "code",
   "execution_count": null,
   "metadata": {},
   "outputs": [],
   "source": [
    "draft_data.to_sql(name = 'drafts', con = engine, if_exists =\"append\", index =False)"
   ]
  },
  {
   "cell_type": "code",
   "execution_count": null,
   "metadata": {},
   "outputs": [],
   "source": [
    "picks = session.query(Drafts)"
   ]
  },
  {
   "cell_type": "code",
   "execution_count": null,
   "metadata": {},
   "outputs": [],
   "source": [
    "for i in picks:\n",
    "    print(i.Year)"
   ]
  },
  {
   "cell_type": "code",
   "execution_count": null,
   "metadata": {},
   "outputs": [],
   "source": []
  }
 ],
 "metadata": {
  "kernelspec": {
   "display_name": "Python 3",
   "language": "python",
   "name": "python3"
  },
  "language_info": {
   "codemirror_mode": {
    "name": "ipython",
    "version": 3
   },
   "file_extension": ".py",
   "mimetype": "text/x-python",
   "name": "python",
   "nbconvert_exporter": "python",
   "pygments_lexer": "ipython3",
   "version": "3.6.9"
  }
 },
 "nbformat": 4,
 "nbformat_minor": 2
}
